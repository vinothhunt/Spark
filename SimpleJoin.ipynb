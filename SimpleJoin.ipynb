{
 "cells": [
  {
   "cell_type": "code",
   "execution_count": 53,
   "metadata": {},
   "outputs": [],
   "source": [
    "fileA = sc.textFile(\"C:\\\\Users\\\\266251\\\\Downloads\\\\coursera-hadoop-platform-and-application-framework-master\\\\coursera-hadoop-platform-and-application-framework-master\\\\spark\\\\simple-join-assignment\\\\join1_FileA.txt\")"
   ]
  },
  {
   "cell_type": "code",
   "execution_count": 54,
   "metadata": {},
   "outputs": [
    {
     "data": {
      "text/plain": [
       "['able,991', 'about,11', 'burger,15', 'actor,22']"
      ]
     },
     "execution_count": 54,
     "metadata": {},
     "output_type": "execute_result"
    }
   ],
   "source": [
    "fileA.collect()"
   ]
  },
  {
   "cell_type": "code",
   "execution_count": 55,
   "metadata": {},
   "outputs": [],
   "source": [
    "fileB = sc.textFile(\"C:\\\\Users\\\\266251\\\\Downloads\\\\coursera-hadoop-platform-and-application-framework-master\\\\coursera-hadoop-platform-and-application-framework-master\\\\spark\\\\simple-join-assignment\\\\join1_FileB.txt\")"
   ]
  },
  {
   "cell_type": "code",
   "execution_count": 56,
   "metadata": {},
   "outputs": [
    {
     "data": {
      "text/plain": [
       "['Jan-01 able,5',\n",
       " 'Feb-02 about,3',\n",
       " 'Mar-03 about,8',\n",
       " 'Apr-04 able,13',\n",
       " 'Feb-22 actor,3',\n",
       " 'Feb-23 burger,5',\n",
       " 'Mar-08 burger,2',\n",
       " 'Dec-15 able,100']"
      ]
     },
     "execution_count": 56,
     "metadata": {},
     "output_type": "execute_result"
    }
   ],
   "source": [
    "fileB.collect()"
   ]
  },
  {
   "cell_type": "code",
   "execution_count": 57,
   "metadata": {},
   "outputs": [],
   "source": [
    "def split_fileA(line):\n",
    "    # split the input line in word and count on the comma\n",
    "    split1=line.split(',')\n",
    "    # turn the count to an integer  \n",
    "    word= split1[0]\n",
    "    count=split1[1]\n",
    "    return (word, count)"
   ]
  },
  {
   "cell_type": "code",
   "execution_count": 58,
   "metadata": {},
   "outputs": [],
   "source": [
    "test_line = \"able,991\""
   ]
  },
  {
   "cell_type": "code",
   "execution_count": 59,
   "metadata": {},
   "outputs": [
    {
     "data": {
      "text/plain": [
       "('able', '991')"
      ]
     },
     "execution_count": 59,
     "metadata": {},
     "output_type": "execute_result"
    }
   ],
   "source": [
    "split_fileA(test_line)"
   ]
  },
  {
   "cell_type": "code",
   "execution_count": 61,
   "metadata": {},
   "outputs": [],
   "source": [
    "fileA_data = fileA.map(split_fileA)"
   ]
  },
  {
   "cell_type": "code",
   "execution_count": 62,
   "metadata": {},
   "outputs": [
    {
     "data": {
      "text/plain": [
       "[('able', '991'), ('about', '11'), ('burger', '15'), ('actor', '22')]"
      ]
     },
     "execution_count": 62,
     "metadata": {},
     "output_type": "execute_result"
    }
   ],
   "source": [
    "fileA_data.collect()"
   ]
  },
  {
   "cell_type": "code",
   "execution_count": 63,
   "metadata": {},
   "outputs": [],
   "source": [
    "def split_fileB(line):\n",
    "        # split the input line into word, date and count_string\n",
    "        dateword_count = line.split(\",\")\n",
    "        count_string = dateword_count[1]\n",
    "        date_word = dateword_count[0].split(\" \")\n",
    "        date = date_word[0]\n",
    "        word = date_word[1] \n",
    "        return (word, date + \" \" + count_string)\n"
   ]
  },
  {
   "cell_type": "code",
   "execution_count": 64,
   "metadata": {},
   "outputs": [],
   "source": [
    "fileB_data = fileB.map(split_fileB)"
   ]
  },
  {
   "cell_type": "code",
   "execution_count": 65,
   "metadata": {},
   "outputs": [
    {
     "data": {
      "text/plain": [
       "[('able', 'Jan-01 5'),\n",
       " ('about', 'Feb-02 3'),\n",
       " ('about', 'Mar-03 8'),\n",
       " ('able', 'Apr-04 13'),\n",
       " ('actor', 'Feb-22 3'),\n",
       " ('burger', 'Feb-23 5'),\n",
       " ('burger', 'Mar-08 2'),\n",
       " ('able', 'Dec-15 100')]"
      ]
     },
     "execution_count": 65,
     "metadata": {},
     "output_type": "execute_result"
    }
   ],
   "source": [
    "fileB_data.collect()"
   ]
  },
  {
   "cell_type": "code",
   "execution_count": 66,
   "metadata": {},
   "outputs": [],
   "source": [
    "fileB_joined_fileA = fileB_data.join(fileA_data)"
   ]
  },
  {
   "cell_type": "code",
   "execution_count": 67,
   "metadata": {},
   "outputs": [
    {
     "data": {
      "text/plain": [
       "[('able', ('Jan-01 5', '991')),\n",
       " ('able', ('Apr-04 13', '991')),\n",
       " ('able', ('Dec-15 100', '991')),\n",
       " ('actor', ('Feb-22 3', '22')),\n",
       " ('about', ('Feb-02 3', '11')),\n",
       " ('about', ('Mar-03 8', '11')),\n",
       " ('burger', ('Feb-23 5', '15')),\n",
       " ('burger', ('Mar-08 2', '15'))]"
      ]
     },
     "execution_count": 67,
     "metadata": {},
     "output_type": "execute_result"
    }
   ],
   "source": [
    "fileB_joined_fileA.collect()"
   ]
  },
  {
   "cell_type": "code",
   "execution_count": null,
   "metadata": {},
   "outputs": [],
   "source": []
  }
 ],
 "metadata": {
  "kernelspec": {
   "display_name": "Python 3",
   "language": "python",
   "name": "python3"
  },
  "language_info": {
   "codemirror_mode": {
    "name": "ipython",
    "version": 3
   },
   "file_extension": ".py",
   "mimetype": "text/x-python",
   "name": "python",
   "nbconvert_exporter": "python",
   "pygments_lexer": "ipython3",
   "version": "3.6.5"
  }
 },
 "nbformat": 4,
 "nbformat_minor": 2
}
